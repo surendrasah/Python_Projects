{
 "cells": [
  {
   "cell_type": "markdown",
   "metadata": {},
   "source": [
    "# Assignment\n",
    "\n",
    "Welcome to the interview.\n",
    "\n",
    "This step has the goal to see how you handle data of varying level of quality, how you understand data, how well you can analyze it, how you can present the data to consumers of the data, and how you deal with adversity.\n",
    "\n",
    "There will be 4 tasks. Please get acquainted with them first, to plan your time.",
    "\n", 
    "In the follow-up interview, you are expected to provide high-level explanations to your code, your decisions when coming up with solutions, problems that made you stop any task."
   ]
  },
  {
   "cell_type": "markdown",
   "metadata": {},
   "source": [
    "## Task 1\n",
    "\n",
    "Parse the table in `insurance.csv` and prepare a meaningful table/visualization of the included data."
   ]
  },
  {
   "cell_type": "code",
   "execution_count": 1,
   "metadata": {},
   "outputs": [
    {
     "data": {
      "text/plain": [
       "<bound method NDFrame.head of Empty DataFrame\n",
       "Columns: [;Name;Gross Premiums (billion €);Year|0;Allianz Gruppe;126, 2;2017-12-31|1;Talanx;33, 1;2017-01-01|2;ERGO Versicherungsgruppe;17, 5;2017-01-01|3;Generali Deutschland Holding AG;16, 01;2017-01-01|4;R+V Gruppe;15, 3;2017-01-01|5;Debeka Gruppe;13, 14;2017-01-01|6;AXA Konzern;10, 86;2017-01-01|7;Versicherungskammer Bayern;8, 1;2017-01-01|8;HUK Gruppe;7, 34;2017-01-01|9;Zurich Gruppe;5, 94;2017-01-01|10;Signal Iduna Gruppe;5, 58;2016-01-01|11;Gothaer Konzern;4, 41;2016-01-01|12;Wüstenrot & Württembergische Konzern;3, 87;2016-12-31|13;SV Sparkassenversicherung Konzern;3, 4;2016-01-01|14;Nürnberger Versicherungsgruppe;2, 27;2016-01-01|]\n",
       "Index: []>"
      ]
     },
     "execution_count": 1,
     "metadata": {},
     "output_type": "execute_result"
    }
   ],
   "source": [
    "#load dataset\n",
    "import pandas as pd\n",
    "dataset=pd.read_csv('insurance.csv')\n",
    "dataset.head\n"
   ]
  },
  {
   "cell_type": "code",
   "execution_count": 2,
   "metadata": {},
   "outputs": [
    {
     "data": {
      "text/plain": [
       "<bound method NDFrame.head of Empty DataFrame\n",
       "Columns: [;Name;Gross Premiums (billion €);Year, 0;Allianz Gruppe;126,2;2017-12-31, 1;Talanx;33,1;2017-01-01, 2;ERGO Versicherungsgruppe;17,5;2017-01-01, 3;Generali Deutschland Holding AG;16,01;2017-01-01, 4;R+V Gruppe;15,3;2017-01-01, 5;Debeka Gruppe;13,14;2017-01-01, 6;AXA Konzern;10,86;2017-01-01, 7;Versicherungskammer Bayern;8,1;2017-01-01, 8;HUK Gruppe;7,34;2017-01-01, 9;Zurich Gruppe;5,94;2017-01-01, 10;Signal Iduna Gruppe;5,58;2016-01-01, 11;Gothaer Konzern;4,41;2016-01-01, 12;Wüstenrot & Württembergische Konzern;3,87;2016-12-31, 13;SV Sparkassenversicherung Konzern;3,4;2016-01-01, 14;Nürnberger Versicherungsgruppe;2,27;2016-01-01, Unnamed: 16]\n",
       "Index: []>"
      ]
     },
     "execution_count": 2,
     "metadata": {},
     "output_type": "execute_result"
    }
   ],
   "source": [
    "df = pd.read_csv(\"insurance.csv\", sep='|')\n",
    "df.head"
   ]
  },
  {
   "cell_type": "code",
   "execution_count": 46,
   "metadata": {},
   "outputs": [
    {
     "data": {
      "text/plain": [
       "<bound method NDFrame.head of     Unnamed: 0                                  Name  \\\n",
       "0            0                        Allianz Gruppe   \n",
       "1            1                                Talanx   \n",
       "2            2              ERGO Versicherungsgruppe   \n",
       "3            3       Generali Deutschland Holding AG   \n",
       "4            4                            R+V Gruppe   \n",
       "5            5                         Debeka Gruppe   \n",
       "6            6                           AXA Konzern   \n",
       "7            7            Versicherungskammer Bayern   \n",
       "8            8                            HUK Gruppe   \n",
       "9            9                         Zurich Gruppe   \n",
       "10          10                   Signal Iduna Gruppe   \n",
       "11          11                       Gothaer Konzern   \n",
       "12          12  Wüstenrot & Württembergische Konzern   \n",
       "13          13     SV Sparkassenversicherung Konzern   \n",
       "14          14        Nürnberger Versicherungsgruppe   \n",
       "\n",
       "   Gross Premiums (billion €)        Year  \n",
       "0                       126,2  2017-12-31  \n",
       "1                        33,1  2017-01-01  \n",
       "2                        17,5  2017-01-01  \n",
       "3                       16,01  2017-01-01  \n",
       "4                        15,3  2017-01-01  \n",
       "5                       13,14  2017-01-01  \n",
       "6                       10,86  2017-01-01  \n",
       "7                         8,1  2017-01-01  \n",
       "8                        7,34  2017-01-01  \n",
       "9                        5,94  2017-01-01  \n",
       "10                       5,58  2016-01-01  \n",
       "11                       4,41  2016-01-01  \n",
       "12                       3,87  2016-12-31  \n",
       "13                        3,4  2016-01-01  \n",
       "14                       2,27  2016-01-01  >"
      ]
     },
     "execution_count": 46,
     "metadata": {},
     "output_type": "execute_result"
    }
   ],
   "source": [
    "df = pd.read_csv(\"insurance.csv\", sep = ';',lineterminator='|')\n",
    "df.head"
   ]
  },
  {
   "cell_type": "code",
   "execution_count": 47,
   "metadata": {},
   "outputs": [
    {
     "name": "stdout",
     "output_type": "stream",
     "text": [
      "    Index                                  Name Gross Premiums (billion €)  \\\n",
      "1       1                                Talanx                       33,1   \n",
      "2       2              ERGO Versicherungsgruppe                       17,5   \n",
      "3       3       Generali Deutschland Holding AG                      16,01   \n",
      "4       4                            R+V Gruppe                       15,3   \n",
      "5       5                         Debeka Gruppe                      13,14   \n",
      "6       6                           AXA Konzern                      10,86   \n",
      "7       7            Versicherungskammer Bayern                        8,1   \n",
      "8       8                            HUK Gruppe                       7,34   \n",
      "9       9                         Zurich Gruppe                       5,94   \n",
      "10     10                   Signal Iduna Gruppe                       5,58   \n",
      "11     11                       Gothaer Konzern                       4,41   \n",
      "12     12  Wüstenrot & Württembergische Konzern                       3,87   \n",
      "13     13     SV Sparkassenversicherung Konzern                        3,4   \n",
      "14     14        Nürnberger Versicherungsgruppe                       2,27   \n",
      "\n",
      "          Year  \n",
      "1   2017-01-01  \n",
      "2   2017-01-01  \n",
      "3   2017-01-01  \n",
      "4   2017-01-01  \n",
      "5   2017-01-01  \n",
      "6   2017-01-01  \n",
      "7   2017-01-01  \n",
      "8   2017-01-01  \n",
      "9   2017-01-01  \n",
      "10  2016-01-01  \n",
      "11  2016-01-01  \n",
      "12  2016-12-31  \n",
      "13  2016-01-01  \n",
      "14  2016-01-01  \n"
     ]
    }
   ],
   "source": [
    "#renaming and dropping the index 0 and none/null values\n",
    "df = df.rename(columns={df.columns[0]: \"Index\", df.columns[1] : 'Name', df.columns[2]:'Gross Premiums (billion €)' ,df.columns[3]:'Year'})\n",
    "df=df.drop(index=0)\n",
    "df = df.dropna()\n",
    "print (df)"
   ]
  },
  {
   "cell_type": "code",
   "execution_count": 40,
   "metadata": {},
   "outputs": [
    {
     "data": {
      "text/plain": [
       "[['', 'Name', 'Gross Premiums (billion â‚¬)', 'Year'],\n",
       " ['0', 'Allianz Gruppe', '126,2', '2017-12-31'],\n",
       " ['1', 'Talanx', '33,1', '2017-01-01'],\n",
       " ['2', 'ERGO Versicherungsgruppe', '17,5', '2017-01-01'],\n",
       " ['3', 'Generali Deutschland Holding AG', '16,01', '2017-01-01'],\n",
       " ['4', 'R+V Gruppe', '15,3', '2017-01-01'],\n",
       " ['5', 'Debeka Gruppe', '13,14', '2017-01-01'],\n",
       " ['6', 'AXA Konzern', '10,86', '2017-01-01'],\n",
       " ['7', 'Versicherungskammer Bayern', '8,1', '2017-01-01'],\n",
       " ['8', 'HUK Gruppe', '7,34', '2017-01-01'],\n",
       " ['9', 'Zurich Gruppe', '5,94', '2017-01-01'],\n",
       " ['10', 'Signal Iduna Gruppe', '5,58', '2016-01-01'],\n",
       " ['11', 'Gothaer Konzern', '4,41', '2016-01-01'],\n",
       " ['12', 'WÃ¼stenrot & WÃ¼rttembergische Konzern', '3,87', '2016-12-31'],\n",
       " ['13', 'SV Sparkassenversicherung Konzern', '3,4', '2016-01-01'],\n",
       " ['14', 'NÃ¼rnberger Versicherungsgruppe', '2,27', '2016-01-01'],\n",
       " ['']]"
      ]
     },
     "execution_count": 40,
     "metadata": {},
     "output_type": "execute_result"
    }
   ],
   "source": [
    "import csv\n",
    "import codecs # for unicode\n",
    "\n",
    "# Read the file as a string\n",
    "with codecs.open(\"insurance.csv\", \"r\") as f:\n",
    "    data = f.read()\n",
    "\n",
    "# Split the string by the row separator\n",
    "rows = data.split(\"|\")\n",
    "\n",
    "# Initialize an empty list to hold the rows of data\n",
    "data_list = []\n",
    "\n",
    "# Iterate through each row and split by the column separator\n",
    "for row in rows:\n",
    "    columns = row.split(\";\")\n",
    "    data_list.append(columns)\n",
    "    \n",
    "data_list"
   ]
  },
  {
   "cell_type": "code",
   "execution_count": 41,
   "metadata": {},
   "outputs": [
    {
     "name": "stdout",
     "output_type": "stream",
     "text": [
      "   Index                                    Name Gross Premiums (billion €)  \\\n",
      "1      0                          Allianz Gruppe                      126,2   \n",
      "2      1                                  Talanx                       33,1   \n",
      "3      2                ERGO Versicherungsgruppe                       17,5   \n",
      "4      3         Generali Deutschland Holding AG                      16,01   \n",
      "5      4                              R+V Gruppe                       15,3   \n",
      "6      5                           Debeka Gruppe                      13,14   \n",
      "7      6                             AXA Konzern                      10,86   \n",
      "8      7              Versicherungskammer Bayern                        8,1   \n",
      "9      8                              HUK Gruppe                       7,34   \n",
      "10     9                           Zurich Gruppe                       5,94   \n",
      "11    10                     Signal Iduna Gruppe                       5,58   \n",
      "12    11                         Gothaer Konzern                       4,41   \n",
      "13    12  WÃ¼stenrot & WÃ¼rttembergische Konzern                       3,87   \n",
      "14    13       SV Sparkassenversicherung Konzern                        3,4   \n",
      "15    14         NÃ¼rnberger Versicherungsgruppe                       2,27   \n",
      "\n",
      "          Year  \n",
      "1   2017-12-31  \n",
      "2   2017-01-01  \n",
      "3   2017-01-01  \n",
      "4   2017-01-01  \n",
      "5   2017-01-01  \n",
      "6   2017-01-01  \n",
      "7   2017-01-01  \n",
      "8   2017-01-01  \n",
      "9   2017-01-01  \n",
      "10  2017-01-01  \n",
      "11  2016-01-01  \n",
      "12  2016-01-01  \n",
      "13  2016-12-31  \n",
      "14  2016-01-01  \n",
      "15  2016-01-01  \n"
     ]
    }
   ],
   "source": [
    "# Create a Pandas DataFrame from the list of rows\n",
    "df = pd.DataFrame(data_list)\n",
    "\n",
    "#renaming and dropping the index 0 and none/null values\n",
    "df = df.rename(columns={df.columns[0]: \"Index\", df.columns[1] : 'Name', df.columns[2]:'Gross Premiums (billion €)' ,df.columns[3]:'Year'})\n",
    "df=df.drop(index=0)\n",
    "df = df.dropna()\n",
    "print (df)\n"
   ]
  },
  {
   "cell_type": "code",
   "execution_count": 42,
   "metadata": {},
   "outputs": [
    {
     "name": "stdout",
     "output_type": "stream",
     "text": [
      "   Index                                    Name  Gross Premiums (billion €)  \\\n",
      "1      0                          Allianz Gruppe                      126.20   \n",
      "2      1                                  Talanx                       33.10   \n",
      "3      2                ERGO Versicherungsgruppe                       17.50   \n",
      "4      3         Generali Deutschland Holding AG                       16.01   \n",
      "5      4                              R+V Gruppe                       15.30   \n",
      "6      5                           Debeka Gruppe                       13.14   \n",
      "7      6                             AXA Konzern                       10.86   \n",
      "8      7              Versicherungskammer Bayern                        8.10   \n",
      "9      8                              HUK Gruppe                        7.34   \n",
      "10     9                           Zurich Gruppe                        5.94   \n",
      "11    10                     Signal Iduna Gruppe                        5.58   \n",
      "12    11                         Gothaer Konzern                        4.41   \n",
      "13    12  WÃ¼stenrot & WÃ¼rttembergische Konzern                        3.87   \n",
      "14    13       SV Sparkassenversicherung Konzern                        3.40   \n",
      "15    14         NÃ¼rnberger Versicherungsgruppe                        2.27   \n",
      "\n",
      "          Year  \n",
      "1   2017-12-31  \n",
      "2   2017-01-01  \n",
      "3   2017-01-01  \n",
      "4   2017-01-01  \n",
      "5   2017-01-01  \n",
      "6   2017-01-01  \n",
      "7   2017-01-01  \n",
      "8   2017-01-01  \n",
      "9   2017-01-01  \n",
      "10  2017-01-01  \n",
      "11  2016-01-01  \n",
      "12  2016-01-01  \n",
      "13  2016-12-31  \n",
      "14  2016-01-01  \n",
      "15  2016-01-01  \n"
     ]
    }
   ],
   "source": [
    "# convert premiums_billion from object to float\n",
    "df['Gross Premiums (billion €)'] = df['Gross Premiums (billion €)'].str.replace(',','.').astype(float)\n",
    "#sort values based on premiums_billion column\n",
    "df.sort_values(by='Gross Premiums (billion €)', inplace=True, ascending=False)\n",
    "# display the first few rows of the dataframe\n",
    "print(df)"
   ]
  },
  {
   "cell_type": "code",
   "execution_count": 6,
   "metadata": {},
   "outputs": [
    {
     "data": {
      "image/png": "[encoded data removed]",
      "text/plain": [
       "<Figure size 1440x720 with 1 Axes>"
      ]
     },
     "metadata": {
      "needs_background": "light"
     },
     "output_type": "display_data"
    }
   ],
   "source": [
    "%matplotlib inline\n",
    "import matplotlib.pyplot as plt\n",
    "#plt.bar(df[\"Name\"], df[\"Gross Premiums (billion €)\"])\n",
    "#plt.xlabel(\"Insurance Companies\")\n",
    "#plt.ylabel(\"Gross premiums (in billions of €)\")\n",
    "#plt.title(\"Gross premiums of Insurance Companies\")\n",
    "\n",
    "fig, ax = plt.subplots(figsize=(20,10))\n",
    "ax.bar(df['Name'], df['Gross Premiums (billion €)'])\n",
    "\n",
    "plt.xticks(rotation=85)\n",
    "plt.show()\n"
   ]
  },
  {
   "cell_type": "code",
   "execution_count": 7,
   "metadata": {},
   "outputs": [
    {
     "data": {
      "image/png": "[encoded data removed]",
      "text/plain": [
       "<Figure size 1440x720 with 1 Axes>"
      ]
     },
     "metadata": {
      "needs_background": "light"
     },
     "output_type": "display_data"
    }
   ],
   "source": [
    "#pivot table to unstack year\n",
    "df = df.pivot(index='Name',columns='Year',values='Gross Premiums (billion €)')\n",
    "df.plot(kind='bar', stacked=True,figsize=(20,10))\n",
    "\n",
    "# Add labels and title\n",
    "plt.xlabel('Company Name')\n",
    "plt.ylabel('Gross Premiums (billion €)')\n",
    "plt.title('Gross Premiums by Company')\n",
    "\n",
    "# Show the chart\n",
    "plt.show()"
   ]
  },
  {
   "cell_type": "markdown",
   "metadata": {},
   "source": [
    "## Task 2\n",
    "\n",
    "Parse the data in `osm.csv` and answer the following questions: \n",
    "\n",
    "1. What is the number of distinct cities in the data set?\n",
    "2. What is the number of distict streets in the data set?\n",
    "3. Please prepare a *tidy data* table for streets (one line per street) and include meaningful summary statistics as columns. "
   ]
  },
  {
   "cell_type": "code",
   "execution_count": 8,
   "metadata": {},
   "outputs": [
    {
     "name": "stdout",
     "output_type": "stream",
     "text": [
      "utf-8\n"
     ]
    }
   ],
   "source": [
    "import chardet\n",
    "\n",
    "#to check encoding\n",
    "def get_encoding(file):\n",
    "    with open(file, 'rb') as f:\n",
    "        result = chardet.detect(f.read())\n",
    "    return result['encoding']\n",
    "\n",
    "file_encoding = get_encoding('osm.csv')\n",
    "print(file_encoding)\n",
    "df = pd.read_csv('osm.csv', encoding=file_encoding)\n"
   ]
  },
  {
   "cell_type": "code",
   "execution_count": 9,
   "metadata": {},
   "outputs": [
    {
     "data": {
      "text/plain": [
       "<bound method NDFrame.head of        Unnamed: 0   Latitude  Longitude  Altitude  City  Postal Code  \\\n",
       "0               0  50.663966   7.150512       NaN  Bonn      53177.0   \n",
       "1               1  50.664473   7.192484       NaN  Bonn      53179.0   \n",
       "2               2  50.712883   7.109112       NaN  Bonn      53129.0   \n",
       "3               3  50.724927   7.154637       NaN  Bonn      53227.0   \n",
       "4               4  50.654603   7.189035       NaN  Bonn      53179.0   \n",
       "...           ...        ...        ...       ...   ...          ...   \n",
       "32122        9309  50.710068   7.066449       NaN  Bonn      53127.0   \n",
       "32123        9310  50.725068   7.040061       NaN  Bonn      53123.0   \n",
       "32124        9311  50.699639   7.064033       NaN  Bonn      53125.0   \n",
       "32125        9312  50.727667   7.142640       NaN  Bonn      53227.0   \n",
       "32126        9313  50.656320   7.198190       NaN  Bonn      53179.0   \n",
       "\n",
       "      House Number Country   Area Height  ... Number of Supermarkets  \\\n",
       "0               66      DE   82.8    NaN  ...                    1.0   \n",
       "1               54      DE  126.3    NaN  ...                    1.0   \n",
       "2               31      DE  130.3    NaN  ...                    2.0   \n",
       "3               21      DE   88.3    NaN  ...                    0.0   \n",
       "4                2      DE  131.3    NaN  ...                    0.0   \n",
       "...            ...     ...    ...    ...  ...                    ...   \n",
       "32122            1      DE   61.7    NaN  ...                    1.0   \n",
       "32123           27      DE   70.3    NaN  ...                    0.0   \n",
       "32124           50      DE   63.6    NaN  ...                    0.0   \n",
       "32125          17b      DE   75.4    NaN  ...                    0.0   \n",
       "32126           19      DE  209.1    NaN  ...                    0.0   \n",
       "\n",
       "       Next Supermarket                id  _time_geocode  _time_get_elements  \\\n",
       "0                 272.8  82a69eb5b7f8166a       0.477973            1.490319   \n",
       "1                 238.3  2909d38410ce16bc       0.483186            1.358352   \n",
       "2                   8.8  aa88881c92fa1e76       0.551848            1.988080   \n",
       "3                   NaN  4b85b8bacf14feef       0.606324            1.557240   \n",
       "4                   NaN  f1555e286e7b406d       0.878145            0.765006   \n",
       "...                 ...               ...            ...                 ...   \n",
       "32122             220.6  5f2619a754a7f943       0.935425            7.542023   \n",
       "32123               NaN  281ef55db7734956       0.612069            9.409344   \n",
       "32124               NaN  cb557e7d45ed0ee3       0.513999            5.457025   \n",
       "32125               NaN  9e0da7aedc3ebc70       0.460997            5.013474   \n",
       "32126               NaN  816c7ff1fc8dbf32       0.568793            2.913011   \n",
       "\n",
       "       _time_quality_checks _time_apply_rules   _time_total  \\\n",
       "0                  0.000504          0.072226      2.041022   \n",
       "1                  0.002272          0.066822      1.910632   \n",
       "2                  0.002549          0.089437      2.631914   \n",
       "3                  0.005279          0.070632      2.239475   \n",
       "4                  0.002947          0.198251      1.844349   \n",
       "...                     ...               ...           ...   \n",
       "32122              0.003376          0.101773 -10437.444268   \n",
       "32123              0.002940          0.072169 -10446.027664   \n",
       "32124              0.002532          0.143211 -10456.124986   \n",
       "32125              0.003385          0.070609 -10462.242877   \n",
       "32126              0.002692          0.072367 -10467.792437   \n",
       "\n",
       "                     Street  _time_get_closest_building  \n",
       "0               Weißdornweg                         NaN  \n",
       "1             Rüdigerstraße                         NaN  \n",
       "2                Pützstraße                         NaN  \n",
       "3         Kreuzritterstraße                         NaN  \n",
       "4                    Im Hag                         NaN  \n",
       "...                     ...                         ...  \n",
       "32122       Hardtbergstraße               -10446.026865  \n",
       "32123  Johann-Bieser-Straße               -10456.124187  \n",
       "32124           Gothastraße               -10462.241753  \n",
       "32125  Küdinghovener Straße               -10467.791342  \n",
       "32126          Im Vogelsang               -10471.349299  \n",
       "\n",
       "[32127 rows x 79 columns]>"
      ]
     },
     "execution_count": 9,
     "metadata": {},
     "output_type": "execute_result"
    }
   ],
   "source": [
    "#load dataset\n",
    "import pandas as pd\n",
    "dataset=pd.read_csv('osm.csv', encoding='utf-8')\n",
    "dataset.head"
   ]
  },
  {
   "cell_type": "markdown",
   "metadata": {},
   "source": [
    "What is the number of distinct cities in the data set?"
   ]
  },
  {
   "cell_type": "code",
   "execution_count": 10,
   "metadata": {},
   "outputs": [
    {
     "name": "stdout",
     "output_type": "stream",
     "text": [
      "Bonn    31404\n",
      "Name: City, dtype: int64\n",
      "1\n",
      "Bonn    31404\n",
      "Name: City, dtype: int64\n",
      "['Bonn' nan]\n"
     ]
    },
    {
     "data": {
      "text/plain": [
       "1"
      ]
     },
     "execution_count": 10,
     "metadata": {},
     "output_type": "execute_result"
    }
   ],
   "source": [
    "city_counts = dataset['City'].value_counts()#get the frequency counts of each unique value in a column , returns a Series object\n",
    "print(city_counts)\n",
    "#dataset['City'].count() #the total number of non-NA/null values of City column\n",
    "number_of_cities = dataset['City'].nunique()\n",
    "print(number_of_cities)\n",
    "#df=dataset.dropna(subset=['City'])\n",
    "#city_counts = df['City'].value_counts()\n",
    "print(city_counts)\n",
    "number_of_cities = df['City'].unique()\n",
    "print(number_of_cities)\n",
    "number_of_cities = df['City'].nunique()\n",
    "number_of_cities"
   ]
  },
  {
   "cell_type": "markdown",
   "metadata": {},
   "source": [
    "What is the number of distict streets in the data set?"
   ]
  },
  {
   "cell_type": "code",
   "execution_count": 11,
   "metadata": {},
   "outputs": [
    {
     "data": {
      "text/plain": [
       "1999"
      ]
     },
     "execution_count": 11,
     "metadata": {},
     "output_type": "execute_result"
    }
   ],
   "source": [
    "number_of_street = dataset['Street'].nunique()\n",
    "number_of_street"
   ]
  },
  {
   "cell_type": "markdown",
   "metadata": {},
   "source": [
    "Please prepare a tidy data table for streets (one line per street) and include meaningful summary statistics as columns."
   ]
  },
  {
   "cell_type": "code",
   "execution_count": 12,
   "metadata": {},
   "outputs": [
    {
     "name": "stdout",
     "output_type": "stream",
     "text": [
      "Unnamed: 0                        0\n",
      "Latitude                        483\n",
      "Longitude                       483\n",
      "Altitude                      32127\n",
      "City                            723\n",
      "                              ...  \n",
      "_time_quality_checks            483\n",
      "_time_apply_rules               483\n",
      "_time_total                     483\n",
      "Street                            0\n",
      "_time_get_closest_building    17471\n",
      "Length: 79, dtype: int64\n"
     ]
    }
   ],
   "source": [
    "# check missing values in each columns\n",
    "print(dataset.isna().sum())\n"
   ]
  },
  {
   "cell_type": "code",
   "execution_count": 13,
   "metadata": {},
   "outputs": [
    {
     "name": "stdout",
     "output_type": "stream",
     "text": [
      "float64    70\n",
      "object      8\n",
      "int64       1\n",
      "dtype: int64\n",
      "       City House Number Country Height House Type _geoloc_type  \\\n",
      "0      Bonn           66      DE    NaN        NaN          way   \n",
      "1      Bonn           54      DE    NaN        NaN          way   \n",
      "2      Bonn           31      DE    NaN        NaN          way   \n",
      "3      Bonn           21      DE    NaN        NaN          way   \n",
      "4      Bonn            2      DE    NaN        NaN          way   \n",
      "...     ...          ...     ...    ...        ...          ...   \n",
      "32122  Bonn            1      DE    NaN    terrace          way   \n",
      "32123  Bonn           27      DE    NaN        NaN          way   \n",
      "32124  Bonn           50      DE    NaN    terrace          way   \n",
      "32125  Bonn          17b      DE    NaN    terrace          way   \n",
      "32126  Bonn           19      DE    NaN        NaN          way   \n",
      "\n",
      "                     id                Street  \n",
      "0      82a69eb5b7f8166a           Weißdornweg  \n",
      "1      2909d38410ce16bc         Rüdigerstraße  \n",
      "2      aa88881c92fa1e76            Pützstraße  \n",
      "3      4b85b8bacf14feef     Kreuzritterstraße  \n",
      "4      f1555e286e7b406d                Im Hag  \n",
      "...                 ...                   ...  \n",
      "32122  5f2619a754a7f943       Hardtbergstraße  \n",
      "32123  281ef55db7734956  Johann-Bieser-Straße  \n",
      "32124  cb557e7d45ed0ee3           Gothastraße  \n",
      "32125  9e0da7aedc3ebc70  Küdinghovener Straße  \n",
      "32126  816c7ff1fc8dbf32          Im Vogelsang  \n",
      "\n",
      "[32127 rows x 8 columns]\n"
     ]
    }
   ],
   "source": [
    "# check the datatype of each column\n",
    "print(dataset.dtypes.value_counts())\n",
    "\n",
    "# select only the non-numeric columns\n",
    "non_numeric_columns = dataset.select_dtypes(exclude=['float64', 'int64'])\n",
    "print(non_numeric_columns)\n"
   ]
  },
  {
   "cell_type": "code",
   "execution_count": 14,
   "metadata": {},
   "outputs": [
    {
     "name": "stderr",
     "output_type": "stream",
     "text": [
      "<ipython-input-14-9973d7fb32ed>:2: FutureWarning: Indexing with multiple keys (implicitly converted to a tuple of keys) will be deprecated, use a list instead.\n",
      "  grouped_data = dataset.groupby(['Street'])['House Number','Height',\n"
     ]
    }
   ],
   "source": [
    "#Group the data by street\n",
    "grouped_data = dataset.groupby(['Street'])['House Number','Height',\n",
    "                                      'Floors', 'Number of Streets','Number of Train Stops','Number of Tram Stops',\n",
    "                                      'Number of Bus Stops','Number of Airports','Number of Highway Exits',\n",
    "                                      'Number of Fields','Field Area','Number of Forests','Forest Area',\n",
    "                                      'Number of Peaks','Maximum Peak Altitude','Mean Peak Altitude',\n",
    "                                      'Number of Rivers','Number of Parks','Park Area','Number of Residential Buildings',\n",
    "                                      'Number of Industrial Buildings','Number of Office Buildings',\n",
    "                                      'Number of Commercial Buildings','Number of Universities','Number of Schools',\n",
    "                                      'Number of Hospitals','Number of Doctors','Number of Nursing Homes',\n",
    "                                      'Number of Social Facilities','Number of Pharmacies',\n",
    "                                      'Number of Police Stations','Number of Fire Stations','Number of Churches',\n",
    "                                      'Number of Playgrounds','Number of Supermarkets'].mean().reset_index()"
   ]
  },
  {
   "cell_type": "code",
   "execution_count": 15,
   "metadata": {},
   "outputs": [
    {
     "data": {
      "text/html": [
       "<div>\n",
       "<style scoped>\n",
       "    .dataframe tbody tr th:only-of-type {\n",
       "        vertical-align: middle;\n",
       "    }\n",
       "\n",
       "    .dataframe tbody tr th {\n",
       "        vertical-align: top;\n",
       "    }\n",
       "\n",
       "    .dataframe thead th {\n",
       "        text-align: right;\n",
       "    }\n",
       "</style>\n",
       "<table border=\"1\" class=\"dataframe\">\n",
       "  <thead>\n",
       "    <tr style=\"text-align: right;\">\n",
       "      <th></th>\n",
       "      <th>Street</th>\n",
       "      <th>Floors</th>\n",
       "      <th>Number of Streets</th>\n",
       "      <th>Number of Train Stops</th>\n",
       "      <th>Number of Tram Stops</th>\n",
       "      <th>Number of Bus Stops</th>\n",
       "      <th>Number of Airports</th>\n",
       "      <th>Number of Highway Exits</th>\n",
       "      <th>Number of Fields</th>\n",
       "      <th>Field Area</th>\n",
       "      <th>...</th>\n",
       "      <th>Number of Hospitals</th>\n",
       "      <th>Number of Doctors</th>\n",
       "      <th>Number of Nursing Homes</th>\n",
       "      <th>Number of Social Facilities</th>\n",
       "      <th>Number of Pharmacies</th>\n",
       "      <th>Number of Police Stations</th>\n",
       "      <th>Number of Fire Stations</th>\n",
       "      <th>Number of Churches</th>\n",
       "      <th>Number of Playgrounds</th>\n",
       "      <th>Number of Supermarkets</th>\n",
       "    </tr>\n",
       "  </thead>\n",
       "  <tbody>\n",
       "    <tr>\n",
       "      <th>0</th>\n",
       "      <td>Abtstraße</td>\n",
       "      <td>0.000000</td>\n",
       "      <td>38.111111</td>\n",
       "      <td>0.0</td>\n",
       "      <td>0.000000</td>\n",
       "      <td>5.722222</td>\n",
       "      <td>0.0</td>\n",
       "      <td>0.666667</td>\n",
       "      <td>5.055556</td>\n",
       "      <td>1.112443e+06</td>\n",
       "      <td>...</td>\n",
       "      <td>0.000000</td>\n",
       "      <td>0.000000</td>\n",
       "      <td>0.0</td>\n",
       "      <td>0.000000</td>\n",
       "      <td>0.000000</td>\n",
       "      <td>0.0</td>\n",
       "      <td>0.722222</td>\n",
       "      <td>2.000000</td>\n",
       "      <td>1.000000</td>\n",
       "      <td>0.000000</td>\n",
       "    </tr>\n",
       "    <tr>\n",
       "      <th>1</th>\n",
       "      <td>Acherstraße</td>\n",
       "      <td>0.000000</td>\n",
       "      <td>184.692308</td>\n",
       "      <td>1.0</td>\n",
       "      <td>22.000000</td>\n",
       "      <td>34.307692</td>\n",
       "      <td>0.0</td>\n",
       "      <td>0.000000</td>\n",
       "      <td>0.000000</td>\n",
       "      <td>NaN</td>\n",
       "      <td>...</td>\n",
       "      <td>1.000000</td>\n",
       "      <td>33.692308</td>\n",
       "      <td>0.0</td>\n",
       "      <td>4.846154</td>\n",
       "      <td>11.000000</td>\n",
       "      <td>2.0</td>\n",
       "      <td>0.000000</td>\n",
       "      <td>7.000000</td>\n",
       "      <td>5.000000</td>\n",
       "      <td>6.769231</td>\n",
       "    </tr>\n",
       "    <tr>\n",
       "      <th>2</th>\n",
       "      <td>Achim-von-Arnim-Straße</td>\n",
       "      <td>NaN</td>\n",
       "      <td>NaN</td>\n",
       "      <td>NaN</td>\n",
       "      <td>NaN</td>\n",
       "      <td>NaN</td>\n",
       "      <td>NaN</td>\n",
       "      <td>NaN</td>\n",
       "      <td>NaN</td>\n",
       "      <td>NaN</td>\n",
       "      <td>...</td>\n",
       "      <td>NaN</td>\n",
       "      <td>NaN</td>\n",
       "      <td>NaN</td>\n",
       "      <td>NaN</td>\n",
       "      <td>NaN</td>\n",
       "      <td>NaN</td>\n",
       "      <td>NaN</td>\n",
       "      <td>NaN</td>\n",
       "      <td>NaN</td>\n",
       "      <td>NaN</td>\n",
       "    </tr>\n",
       "    <tr>\n",
       "      <th>3</th>\n",
       "      <td>Ackerstraße</td>\n",
       "      <td>0.000000</td>\n",
       "      <td>54.888889</td>\n",
       "      <td>0.0</td>\n",
       "      <td>0.000000</td>\n",
       "      <td>7.888889</td>\n",
       "      <td>0.0</td>\n",
       "      <td>0.000000</td>\n",
       "      <td>2.666667</td>\n",
       "      <td>4.749533e+03</td>\n",
       "      <td>...</td>\n",
       "      <td>0.000000</td>\n",
       "      <td>0.000000</td>\n",
       "      <td>0.0</td>\n",
       "      <td>1.000000</td>\n",
       "      <td>2.000000</td>\n",
       "      <td>0.0</td>\n",
       "      <td>1.000000</td>\n",
       "      <td>3.000000</td>\n",
       "      <td>6.555556</td>\n",
       "      <td>1.000000</td>\n",
       "    </tr>\n",
       "    <tr>\n",
       "      <th>4</th>\n",
       "      <td>Adalbert-Stifter-Straße</td>\n",
       "      <td>0.250000</td>\n",
       "      <td>48.750000</td>\n",
       "      <td>0.0</td>\n",
       "      <td>2.000000</td>\n",
       "      <td>7.125000</td>\n",
       "      <td>0.0</td>\n",
       "      <td>3.625000</td>\n",
       "      <td>1.125000</td>\n",
       "      <td>1.990936e+04</td>\n",
       "      <td>...</td>\n",
       "      <td>1.000000</td>\n",
       "      <td>1.000000</td>\n",
       "      <td>0.0</td>\n",
       "      <td>0.000000</td>\n",
       "      <td>1.000000</td>\n",
       "      <td>0.0</td>\n",
       "      <td>0.000000</td>\n",
       "      <td>2.000000</td>\n",
       "      <td>0.000000</td>\n",
       "      <td>0.000000</td>\n",
       "    </tr>\n",
       "    <tr>\n",
       "      <th>...</th>\n",
       "      <td>...</td>\n",
       "      <td>...</td>\n",
       "      <td>...</td>\n",
       "      <td>...</td>\n",
       "      <td>...</td>\n",
       "      <td>...</td>\n",
       "      <td>...</td>\n",
       "      <td>...</td>\n",
       "      <td>...</td>\n",
       "      <td>...</td>\n",
       "      <td>...</td>\n",
       "      <td>...</td>\n",
       "      <td>...</td>\n",
       "      <td>...</td>\n",
       "      <td>...</td>\n",
       "      <td>...</td>\n",
       "      <td>...</td>\n",
       "      <td>...</td>\n",
       "      <td>...</td>\n",
       "      <td>...</td>\n",
       "      <td>...</td>\n",
       "    </tr>\n",
       "    <tr>\n",
       "      <th>1994</th>\n",
       "      <td>Zweimühlenweg</td>\n",
       "      <td>0.000000</td>\n",
       "      <td>54.333333</td>\n",
       "      <td>0.0</td>\n",
       "      <td>2.000000</td>\n",
       "      <td>9.000000</td>\n",
       "      <td>0.0</td>\n",
       "      <td>0.000000</td>\n",
       "      <td>0.000000</td>\n",
       "      <td>NaN</td>\n",
       "      <td>...</td>\n",
       "      <td>0.000000</td>\n",
       "      <td>0.000000</td>\n",
       "      <td>0.0</td>\n",
       "      <td>1.000000</td>\n",
       "      <td>0.000000</td>\n",
       "      <td>0.0</td>\n",
       "      <td>1.000000</td>\n",
       "      <td>0.000000</td>\n",
       "      <td>4.333333</td>\n",
       "      <td>0.000000</td>\n",
       "    </tr>\n",
       "    <tr>\n",
       "      <th>1995</th>\n",
       "      <td>Zülpicher Straße</td>\n",
       "      <td>0.000000</td>\n",
       "      <td>98.833333</td>\n",
       "      <td>0.0</td>\n",
       "      <td>0.000000</td>\n",
       "      <td>10.500000</td>\n",
       "      <td>0.0</td>\n",
       "      <td>13.583333</td>\n",
       "      <td>2.000000</td>\n",
       "      <td>2.993610e+04</td>\n",
       "      <td>...</td>\n",
       "      <td>0.000000</td>\n",
       "      <td>2.000000</td>\n",
       "      <td>0.0</td>\n",
       "      <td>1.000000</td>\n",
       "      <td>1.000000</td>\n",
       "      <td>0.0</td>\n",
       "      <td>0.000000</td>\n",
       "      <td>2.000000</td>\n",
       "      <td>7.166667</td>\n",
       "      <td>3.000000</td>\n",
       "    </tr>\n",
       "    <tr>\n",
       "      <th>1996</th>\n",
       "      <td>Ölbergstraße</td>\n",
       "      <td>0.000000</td>\n",
       "      <td>28.750000</td>\n",
       "      <td>0.0</td>\n",
       "      <td>0.000000</td>\n",
       "      <td>3.000000</td>\n",
       "      <td>0.0</td>\n",
       "      <td>0.000000</td>\n",
       "      <td>6.250000</td>\n",
       "      <td>3.833150e+05</td>\n",
       "      <td>...</td>\n",
       "      <td>0.000000</td>\n",
       "      <td>0.000000</td>\n",
       "      <td>0.0</td>\n",
       "      <td>0.000000</td>\n",
       "      <td>0.000000</td>\n",
       "      <td>0.0</td>\n",
       "      <td>0.000000</td>\n",
       "      <td>0.000000</td>\n",
       "      <td>1.000000</td>\n",
       "      <td>0.000000</td>\n",
       "    </tr>\n",
       "    <tr>\n",
       "      <th>1997</th>\n",
       "      <td>Ölbergweg</td>\n",
       "      <td>0.000000</td>\n",
       "      <td>62.750000</td>\n",
       "      <td>0.0</td>\n",
       "      <td>3.916667</td>\n",
       "      <td>4.000000</td>\n",
       "      <td>0.0</td>\n",
       "      <td>0.000000</td>\n",
       "      <td>5.166667</td>\n",
       "      <td>3.287385e+04</td>\n",
       "      <td>...</td>\n",
       "      <td>0.000000</td>\n",
       "      <td>2.000000</td>\n",
       "      <td>0.0</td>\n",
       "      <td>1.000000</td>\n",
       "      <td>1.000000</td>\n",
       "      <td>0.0</td>\n",
       "      <td>0.000000</td>\n",
       "      <td>3.000000</td>\n",
       "      <td>3.916667</td>\n",
       "      <td>0.500000</td>\n",
       "    </tr>\n",
       "    <tr>\n",
       "      <th>1998</th>\n",
       "      <td>Ürziger Straße</td>\n",
       "      <td>0.272727</td>\n",
       "      <td>70.000000</td>\n",
       "      <td>0.0</td>\n",
       "      <td>0.181818</td>\n",
       "      <td>13.000000</td>\n",
       "      <td>0.0</td>\n",
       "      <td>0.000000</td>\n",
       "      <td>0.000000</td>\n",
       "      <td>NaN</td>\n",
       "      <td>...</td>\n",
       "      <td>0.090909</td>\n",
       "      <td>1.454545</td>\n",
       "      <td>0.0</td>\n",
       "      <td>0.000000</td>\n",
       "      <td>1.818182</td>\n",
       "      <td>0.0</td>\n",
       "      <td>0.000000</td>\n",
       "      <td>2.454545</td>\n",
       "      <td>1.454545</td>\n",
       "      <td>2.363636</td>\n",
       "    </tr>\n",
       "  </tbody>\n",
       "</table>\n",
       "<p>1999 rows × 34 columns</p>\n",
       "</div>"
      ],
      "text/plain": [
       "                       Street    Floors  Number of Streets  \\\n",
       "0                   Abtstraße  0.000000          38.111111   \n",
       "1                 Acherstraße  0.000000         184.692308   \n",
       "2      Achim-von-Arnim-Straße       NaN                NaN   \n",
       "3                 Ackerstraße  0.000000          54.888889   \n",
       "4     Adalbert-Stifter-Straße  0.250000          48.750000   \n",
       "...                       ...       ...                ...   \n",
       "1994            Zweimühlenweg  0.000000          54.333333   \n",
       "1995         Zülpicher Straße  0.000000          98.833333   \n",
       "1996             Ölbergstraße  0.000000          28.750000   \n",
       "1997                Ölbergweg  0.000000          62.750000   \n",
       "1998           Ürziger Straße  0.272727          70.000000   \n",
       "\n",
       "      Number of Train Stops  Number of Tram Stops  Number of Bus Stops  \\\n",
       "0                       0.0              0.000000             5.722222   \n",
       "1                       1.0             22.000000            34.307692   \n",
       "2                       NaN                   NaN                  NaN   \n",
       "3                       0.0              0.000000             7.888889   \n",
       "4                       0.0              2.000000             7.125000   \n",
       "...                     ...                   ...                  ...   \n",
       "1994                    0.0              2.000000             9.000000   \n",
       "1995                    0.0              0.000000            10.500000   \n",
       "1996                    0.0              0.000000             3.000000   \n",
       "1997                    0.0              3.916667             4.000000   \n",
       "1998                    0.0              0.181818            13.000000   \n",
       "\n",
       "      Number of Airports  Number of Highway Exits  Number of Fields  \\\n",
       "0                    0.0                 0.666667          5.055556   \n",
       "1                    0.0                 0.000000          0.000000   \n",
       "2                    NaN                      NaN               NaN   \n",
       "3                    0.0                 0.000000          2.666667   \n",
       "4                    0.0                 3.625000          1.125000   \n",
       "...                  ...                      ...               ...   \n",
       "1994                 0.0                 0.000000          0.000000   \n",
       "1995                 0.0                13.583333          2.000000   \n",
       "1996                 0.0                 0.000000          6.250000   \n",
       "1997                 0.0                 0.000000          5.166667   \n",
       "1998                 0.0                 0.000000          0.000000   \n",
       "\n",
       "        Field Area  ...  Number of Hospitals  Number of Doctors  \\\n",
       "0     1.112443e+06  ...             0.000000           0.000000   \n",
       "1              NaN  ...             1.000000          33.692308   \n",
       "2              NaN  ...                  NaN                NaN   \n",
       "3     4.749533e+03  ...             0.000000           0.000000   \n",
       "4     1.990936e+04  ...             1.000000           1.000000   \n",
       "...            ...  ...                  ...                ...   \n",
       "1994           NaN  ...             0.000000           0.000000   \n",
       "1995  2.993610e+04  ...             0.000000           2.000000   \n",
       "1996  3.833150e+05  ...             0.000000           0.000000   \n",
       "1997  3.287385e+04  ...             0.000000           2.000000   \n",
       "1998           NaN  ...             0.090909           1.454545   \n",
       "\n",
       "      Number of Nursing Homes  Number of Social Facilities  \\\n",
       "0                         0.0                     0.000000   \n",
       "1                         0.0                     4.846154   \n",
       "2                         NaN                          NaN   \n",
       "3                         0.0                     1.000000   \n",
       "4                         0.0                     0.000000   \n",
       "...                       ...                          ...   \n",
       "1994                      0.0                     1.000000   \n",
       "1995                      0.0                     1.000000   \n",
       "1996                      0.0                     0.000000   \n",
       "1997                      0.0                     1.000000   \n",
       "1998                      0.0                     0.000000   \n",
       "\n",
       "      Number of Pharmacies  Number of Police Stations  \\\n",
       "0                 0.000000                        0.0   \n",
       "1                11.000000                        2.0   \n",
       "2                      NaN                        NaN   \n",
       "3                 2.000000                        0.0   \n",
       "4                 1.000000                        0.0   \n",
       "...                    ...                        ...   \n",
       "1994              0.000000                        0.0   \n",
       "1995              1.000000                        0.0   \n",
       "1996              0.000000                        0.0   \n",
       "1997              1.000000                        0.0   \n",
       "1998              1.818182                        0.0   \n",
       "\n",
       "      Number of Fire Stations  Number of Churches  Number of Playgrounds  \\\n",
       "0                    0.722222            2.000000               1.000000   \n",
       "1                    0.000000            7.000000               5.000000   \n",
       "2                         NaN                 NaN                    NaN   \n",
       "3                    1.000000            3.000000               6.555556   \n",
       "4                    0.000000            2.000000               0.000000   \n",
       "...                       ...                 ...                    ...   \n",
       "1994                 1.000000            0.000000               4.333333   \n",
       "1995                 0.000000            2.000000               7.166667   \n",
       "1996                 0.000000            0.000000               1.000000   \n",
       "1997                 0.000000            3.000000               3.916667   \n",
       "1998                 0.000000            2.454545               1.454545   \n",
       "\n",
       "      Number of Supermarkets  \n",
       "0                   0.000000  \n",
       "1                   6.769231  \n",
       "2                        NaN  \n",
       "3                   1.000000  \n",
       "4                   0.000000  \n",
       "...                      ...  \n",
       "1994                0.000000  \n",
       "1995                3.000000  \n",
       "1996                0.000000  \n",
       "1997                0.500000  \n",
       "1998                2.363636  \n",
       "\n",
       "[1999 rows x 34 columns]"
      ]
     },
     "execution_count": 15,
     "metadata": {},
     "output_type": "execute_result"
    }
   ],
   "source": [
    "grouped_data"
   ]
  },
  {
   "cell_type": "code",
   "execution_count": 25,
   "metadata": {},
   "outputs": [
    {
     "ename": "DataError",
     "evalue": "No numeric types to aggregate",
     "output_type": "error",
     "traceback": [
      "\u001b[1;31m---------------------------------------------------------------------------\u001b[0m",
      "\u001b[1;31mDataError\u001b[0m                                 Traceback (most recent call last)",
      "\u001b[1;32m<ipython-input-25-1b9996b19ca8>\u001b[0m in \u001b[0;36m<module>\u001b[1;34m\u001b[0m\n\u001b[0;32m      1\u001b[0m \u001b[1;31m#group the data by street\u001b[0m\u001b[1;33m\u001b[0m\u001b[1;33m\u001b[0m\u001b[1;33m\u001b[0m\u001b[0m\n\u001b[1;32m----> 2\u001b[1;33m grouped_data1 = dataset.groupby(['Street']).agg({\n\u001b[0m\u001b[0;32m      3\u001b[0m     \u001b[1;34m'House Number'\u001b[0m\u001b[1;33m:\u001b[0m\u001b[1;34m'mean'\u001b[0m\u001b[1;33m,\u001b[0m\u001b[1;33m\u001b[0m\u001b[1;33m\u001b[0m\u001b[0m\n\u001b[0;32m      4\u001b[0m     \u001b[1;34m'Height'\u001b[0m\u001b[1;33m:\u001b[0m\u001b[1;34m'mean'\u001b[0m\u001b[1;33m,\u001b[0m\u001b[1;33m\u001b[0m\u001b[1;33m\u001b[0m\u001b[0m\n\u001b[0;32m      5\u001b[0m     \u001b[1;34m'Floors'\u001b[0m\u001b[1;33m:\u001b[0m\u001b[1;34m'mean'\u001b[0m\u001b[1;33m,\u001b[0m\u001b[1;33m\u001b[0m\u001b[1;33m\u001b[0m\u001b[0m\n",
      "\u001b[1;32m~\\Anaconda3\\envs\\myenv\\lib\\site-packages\\pandas\\core\\groupby\\generic.py\u001b[0m in \u001b[0;36maggregate\u001b[1;34m(self, func, engine, engine_kwargs, *args, **kwargs)\u001b[0m\n\u001b[0;32m    943\u001b[0m         \u001b[0mfunc\u001b[0m \u001b[1;33m=\u001b[0m \u001b[0mmaybe_mangle_lambdas\u001b[0m\u001b[1;33m(\u001b[0m\u001b[0mfunc\u001b[0m\u001b[1;33m)\u001b[0m\u001b[1;33m\u001b[0m\u001b[1;33m\u001b[0m\u001b[0m\n\u001b[0;32m    944\u001b[0m \u001b[1;33m\u001b[0m\u001b[0m\n\u001b[1;32m--> 945\u001b[1;33m         \u001b[0mresult\u001b[0m\u001b[1;33m,\u001b[0m \u001b[0mhow\u001b[0m \u001b[1;33m=\u001b[0m \u001b[0maggregate\u001b[0m\u001b[1;33m(\u001b[0m\u001b[0mself\u001b[0m\u001b[1;33m,\u001b[0m \u001b[0mfunc\u001b[0m\u001b[1;33m,\u001b[0m \u001b[1;33m*\u001b[0m\u001b[0margs\u001b[0m\u001b[1;33m,\u001b[0m \u001b[1;33m**\u001b[0m\u001b[0mkwargs\u001b[0m\u001b[1;33m)\u001b[0m\u001b[1;33m\u001b[0m\u001b[1;33m\u001b[0m\u001b[0m\n\u001b[0m\u001b[0;32m    946\u001b[0m         \u001b[1;32mif\u001b[0m \u001b[0mhow\u001b[0m \u001b[1;32mis\u001b[0m \u001b[1;32mNone\u001b[0m\u001b[1;33m:\u001b[0m\u001b[1;33m\u001b[0m\u001b[1;33m\u001b[0m\u001b[0m\n\u001b[0;32m    947\u001b[0m             \u001b[1;32mreturn\u001b[0m \u001b[0mresult\u001b[0m\u001b[1;33m\u001b[0m\u001b[1;33m\u001b[0m\u001b[0m\n",
      "\u001b[1;32m~\\Anaconda3\\envs\\myenv\\lib\\site-packages\\pandas\\core\\aggregation.py\u001b[0m in \u001b[0;36maggregate\u001b[1;34m(obj, arg, *args, **kwargs)\u001b[0m\n\u001b[0;32m    580\u001b[0m     \u001b[1;32melif\u001b[0m \u001b[0mis_dict_like\u001b[0m\u001b[1;33m(\u001b[0m\u001b[0marg\u001b[0m\u001b[1;33m)\u001b[0m\u001b[1;33m:\u001b[0m\u001b[1;33m\u001b[0m\u001b[1;33m\u001b[0m\u001b[0m\n\u001b[0;32m    581\u001b[0m         \u001b[0marg\u001b[0m \u001b[1;33m=\u001b[0m \u001b[0mcast\u001b[0m\u001b[1;33m(\u001b[0m\u001b[0mAggFuncTypeDict\u001b[0m\u001b[1;33m,\u001b[0m \u001b[0marg\u001b[0m\u001b[1;33m)\u001b[0m\u001b[1;33m\u001b[0m\u001b[1;33m\u001b[0m\u001b[0m\n\u001b[1;32m--> 582\u001b[1;33m         \u001b[1;32mreturn\u001b[0m \u001b[0magg_dict_like\u001b[0m\u001b[1;33m(\u001b[0m\u001b[0mobj\u001b[0m\u001b[1;33m,\u001b[0m \u001b[0marg\u001b[0m\u001b[1;33m,\u001b[0m \u001b[0m_axis\u001b[0m\u001b[1;33m)\u001b[0m\u001b[1;33m,\u001b[0m \u001b[1;32mTrue\u001b[0m\u001b[1;33m\u001b[0m\u001b[1;33m\u001b[0m\u001b[0m\n\u001b[0m\u001b[0;32m    583\u001b[0m     \u001b[1;32melif\u001b[0m \u001b[0mis_list_like\u001b[0m\u001b[1;33m(\u001b[0m\u001b[0marg\u001b[0m\u001b[1;33m)\u001b[0m\u001b[1;33m:\u001b[0m\u001b[1;33m\u001b[0m\u001b[1;33m\u001b[0m\u001b[0m\n\u001b[0;32m    584\u001b[0m         \u001b[1;31m# we require a list, but not an 'str'\u001b[0m\u001b[1;33m\u001b[0m\u001b[1;33m\u001b[0m\u001b[1;33m\u001b[0m\u001b[0m\n",
      "\u001b[1;32m~\\Anaconda3\\envs\\myenv\\lib\\site-packages\\pandas\\core\\aggregation.py\u001b[0m in \u001b[0;36magg_dict_like\u001b[1;34m(obj, arg, _axis)\u001b[0m\n\u001b[0;32m    766\u001b[0m     \u001b[1;32melse\u001b[0m\u001b[1;33m:\u001b[0m\u001b[1;33m\u001b[0m\u001b[1;33m\u001b[0m\u001b[0m\n\u001b[0;32m    767\u001b[0m         \u001b[1;31m# key used for column selection and output\u001b[0m\u001b[1;33m\u001b[0m\u001b[1;33m\u001b[0m\u001b[1;33m\u001b[0m\u001b[0m\n\u001b[1;32m--> 768\u001b[1;33m         \u001b[0mresults\u001b[0m \u001b[1;33m=\u001b[0m \u001b[1;33m{\u001b[0m\u001b[0mkey\u001b[0m\u001b[1;33m:\u001b[0m \u001b[0mobj\u001b[0m\u001b[1;33m.\u001b[0m\u001b[0m_gotitem\u001b[0m\u001b[1;33m(\u001b[0m\u001b[0mkey\u001b[0m\u001b[1;33m,\u001b[0m \u001b[0mndim\u001b[0m\u001b[1;33m=\u001b[0m\u001b[1;36m1\u001b[0m\u001b[1;33m)\u001b[0m\u001b[1;33m.\u001b[0m\u001b[0magg\u001b[0m\u001b[1;33m(\u001b[0m\u001b[0mhow\u001b[0m\u001b[1;33m)\u001b[0m \u001b[1;32mfor\u001b[0m \u001b[0mkey\u001b[0m\u001b[1;33m,\u001b[0m \u001b[0mhow\u001b[0m \u001b[1;32min\u001b[0m \u001b[0marg\u001b[0m\u001b[1;33m.\u001b[0m\u001b[0mitems\u001b[0m\u001b[1;33m(\u001b[0m\u001b[1;33m)\u001b[0m\u001b[1;33m}\u001b[0m\u001b[1;33m\u001b[0m\u001b[1;33m\u001b[0m\u001b[0m\n\u001b[0m\u001b[0;32m    769\u001b[0m \u001b[1;33m\u001b[0m\u001b[0m\n\u001b[0;32m    770\u001b[0m     \u001b[1;31m# set the final keys\u001b[0m\u001b[1;33m\u001b[0m\u001b[1;33m\u001b[0m\u001b[1;33m\u001b[0m\u001b[0m\n",
      "\u001b[1;32m~\\Anaconda3\\envs\\myenv\\lib\\site-packages\\pandas\\core\\aggregation.py\u001b[0m in \u001b[0;36m<dictcomp>\u001b[1;34m(.0)\u001b[0m\n\u001b[0;32m    766\u001b[0m     \u001b[1;32melse\u001b[0m\u001b[1;33m:\u001b[0m\u001b[1;33m\u001b[0m\u001b[1;33m\u001b[0m\u001b[0m\n\u001b[0;32m    767\u001b[0m         \u001b[1;31m# key used for column selection and output\u001b[0m\u001b[1;33m\u001b[0m\u001b[1;33m\u001b[0m\u001b[1;33m\u001b[0m\u001b[0m\n\u001b[1;32m--> 768\u001b[1;33m         \u001b[0mresults\u001b[0m \u001b[1;33m=\u001b[0m \u001b[1;33m{\u001b[0m\u001b[0mkey\u001b[0m\u001b[1;33m:\u001b[0m \u001b[0mobj\u001b[0m\u001b[1;33m.\u001b[0m\u001b[0m_gotitem\u001b[0m\u001b[1;33m(\u001b[0m\u001b[0mkey\u001b[0m\u001b[1;33m,\u001b[0m \u001b[0mndim\u001b[0m\u001b[1;33m=\u001b[0m\u001b[1;36m1\u001b[0m\u001b[1;33m)\u001b[0m\u001b[1;33m.\u001b[0m\u001b[0magg\u001b[0m\u001b[1;33m(\u001b[0m\u001b[0mhow\u001b[0m\u001b[1;33m)\u001b[0m \u001b[1;32mfor\u001b[0m \u001b[0mkey\u001b[0m\u001b[1;33m,\u001b[0m \u001b[0mhow\u001b[0m \u001b[1;32min\u001b[0m \u001b[0marg\u001b[0m\u001b[1;33m.\u001b[0m\u001b[0mitems\u001b[0m\u001b[1;33m(\u001b[0m\u001b[1;33m)\u001b[0m\u001b[1;33m}\u001b[0m\u001b[1;33m\u001b[0m\u001b[1;33m\u001b[0m\u001b[0m\n\u001b[0m\u001b[0;32m    769\u001b[0m \u001b[1;33m\u001b[0m\u001b[0m\n\u001b[0;32m    770\u001b[0m     \u001b[1;31m# set the final keys\u001b[0m\u001b[1;33m\u001b[0m\u001b[1;33m\u001b[0m\u001b[1;33m\u001b[0m\u001b[0m\n",
      "\u001b[1;32m~\\Anaconda3\\envs\\myenv\\lib\\site-packages\\pandas\\core\\groupby\\generic.py\u001b[0m in \u001b[0;36maggregate\u001b[1;34m(self, func, engine, engine_kwargs, *args, **kwargs)\u001b[0m\n\u001b[0;32m    239\u001b[0m \u001b[1;33m\u001b[0m\u001b[0m\n\u001b[0;32m    240\u001b[0m         \u001b[1;32mif\u001b[0m \u001b[0misinstance\u001b[0m\u001b[1;33m(\u001b[0m\u001b[0mfunc\u001b[0m\u001b[1;33m,\u001b[0m \u001b[0mstr\u001b[0m\u001b[1;33m)\u001b[0m\u001b[1;33m:\u001b[0m\u001b[1;33m\u001b[0m\u001b[1;33m\u001b[0m\u001b[0m\n\u001b[1;32m--> 241\u001b[1;33m             \u001b[1;32mreturn\u001b[0m \u001b[0mgetattr\u001b[0m\u001b[1;33m(\u001b[0m\u001b[0mself\u001b[0m\u001b[1;33m,\u001b[0m \u001b[0mfunc\u001b[0m\u001b[1;33m)\u001b[0m\u001b[1;33m(\u001b[0m\u001b[1;33m*\u001b[0m\u001b[0margs\u001b[0m\u001b[1;33m,\u001b[0m \u001b[1;33m**\u001b[0m\u001b[0mkwargs\u001b[0m\u001b[1;33m)\u001b[0m\u001b[1;33m\u001b[0m\u001b[1;33m\u001b[0m\u001b[0m\n\u001b[0m\u001b[0;32m    242\u001b[0m \u001b[1;33m\u001b[0m\u001b[0m\n\u001b[0;32m    243\u001b[0m         \u001b[1;32melif\u001b[0m \u001b[0misinstance\u001b[0m\u001b[1;33m(\u001b[0m\u001b[0mfunc\u001b[0m\u001b[1;33m,\u001b[0m \u001b[0mabc\u001b[0m\u001b[1;33m.\u001b[0m\u001b[0mIterable\u001b[0m\u001b[1;33m)\u001b[0m\u001b[1;33m:\u001b[0m\u001b[1;33m\u001b[0m\u001b[1;33m\u001b[0m\u001b[0m\n",
      "\u001b[1;32m~\\Anaconda3\\envs\\myenv\\lib\\site-packages\\pandas\\core\\groupby\\groupby.py\u001b[0m in \u001b[0;36mmean\u001b[1;34m(self, numeric_only)\u001b[0m\n\u001b[0;32m   1494\u001b[0m         \u001b[0mName\u001b[0m\u001b[1;33m:\u001b[0m \u001b[0mB\u001b[0m\u001b[1;33m,\u001b[0m \u001b[0mdtype\u001b[0m\u001b[1;33m:\u001b[0m \u001b[0mfloat64\u001b[0m\u001b[1;33m\u001b[0m\u001b[1;33m\u001b[0m\u001b[0m\n\u001b[0;32m   1495\u001b[0m         \"\"\"\n\u001b[1;32m-> 1496\u001b[1;33m         return self._cython_agg_general(\n\u001b[0m\u001b[0;32m   1497\u001b[0m             \u001b[1;34m\"mean\"\u001b[0m\u001b[1;33m,\u001b[0m\u001b[1;33m\u001b[0m\u001b[1;33m\u001b[0m\u001b[0m\n\u001b[0;32m   1498\u001b[0m             \u001b[0malt\u001b[0m\u001b[1;33m=\u001b[0m\u001b[1;32mlambda\u001b[0m \u001b[0mx\u001b[0m\u001b[1;33m,\u001b[0m \u001b[0maxis\u001b[0m\u001b[1;33m:\u001b[0m \u001b[0mSeries\u001b[0m\u001b[1;33m(\u001b[0m\u001b[0mx\u001b[0m\u001b[1;33m)\u001b[0m\u001b[1;33m.\u001b[0m\u001b[0mmean\u001b[0m\u001b[1;33m(\u001b[0m\u001b[0mnumeric_only\u001b[0m\u001b[1;33m=\u001b[0m\u001b[0mnumeric_only\u001b[0m\u001b[1;33m)\u001b[0m\u001b[1;33m,\u001b[0m\u001b[1;33m\u001b[0m\u001b[1;33m\u001b[0m\u001b[0m\n",
      "\u001b[1;32m~\\Anaconda3\\envs\\myenv\\lib\\site-packages\\pandas\\core\\groupby\\groupby.py\u001b[0m in \u001b[0;36m_cython_agg_general\u001b[1;34m(self, how, alt, numeric_only, min_count)\u001b[0m\n\u001b[0;32m   1079\u001b[0m \u001b[1;33m\u001b[0m\u001b[0m\n\u001b[0;32m   1080\u001b[0m         \u001b[1;32mif\u001b[0m \u001b[1;32mnot\u001b[0m \u001b[0moutput\u001b[0m\u001b[1;33m:\u001b[0m\u001b[1;33m\u001b[0m\u001b[1;33m\u001b[0m\u001b[0m\n\u001b[1;32m-> 1081\u001b[1;33m             \u001b[1;32mraise\u001b[0m \u001b[0mDataError\u001b[0m\u001b[1;33m(\u001b[0m\u001b[1;34m\"No numeric types to aggregate\"\u001b[0m\u001b[1;33m)\u001b[0m\u001b[1;33m\u001b[0m\u001b[1;33m\u001b[0m\u001b[0m\n\u001b[0m\u001b[0;32m   1082\u001b[0m \u001b[1;33m\u001b[0m\u001b[0m\n\u001b[0;32m   1083\u001b[0m         \u001b[1;32mreturn\u001b[0m \u001b[0mself\u001b[0m\u001b[1;33m.\u001b[0m\u001b[0m_wrap_aggregated_output\u001b[0m\u001b[1;33m(\u001b[0m\u001b[0moutput\u001b[0m\u001b[1;33m,\u001b[0m \u001b[0mindex\u001b[0m\u001b[1;33m=\u001b[0m\u001b[0mself\u001b[0m\u001b[1;33m.\u001b[0m\u001b[0mgrouper\u001b[0m\u001b[1;33m.\u001b[0m\u001b[0mresult_index\u001b[0m\u001b[1;33m)\u001b[0m\u001b[1;33m\u001b[0m\u001b[1;33m\u001b[0m\u001b[0m\n",
      "\u001b[1;31mDataError\u001b[0m: No numeric types to aggregate"
     ]
    }
   ],
   "source": [
    "#group the data by street\n",
    "grouped_data1 = dataset.groupby(['Street']).agg({\n",
    "    'House Number':'mean',\n",
    "    'Height':'mean',\n",
    "    'Floors':'mean', \n",
    "    'Number of Streets':'mean',\n",
    "    'Number of Train Stops':'mean',\n",
    "    'Number of Tram Stops':'mean',\n",
    "    'Number of Bus Stops':'mean',\n",
    "    'Number of Airports':'mean' })"
   ]
  },
  {
   "cell_type": "markdown",
   "metadata": {},
   "source": [
    "## Task 3\n",
    "\n",
    "Parse the data in `newsgroups_sample.csv` into a data frame and calculate the number of texts per calendar day."
   ]
  },
  {
   "cell_type": "code",
   "execution_count": 16,
   "metadata": {},
   "outputs": [
    {
     "name": "stdout",
     "output_type": "stream",
     "text": [
      "utf-8\n"
     ]
    }
   ],
   "source": [
    "import chardet\n",
    "\n",
    "#to check encoding\n",
    "def get_encoding(file):\n",
    "    with open(file, 'rb') as f:\n",
    "        result = chardet.detect(f.read())\n",
    "    return result['encoding']\n",
    "\n",
    "file_encoding = get_encoding('newsgroups_sample.csv')\n",
    "print(file_encoding)\n",
    "\n",
    "#df = pd.read_csv('newsgroups_sample.csv', encoding=file_encoding)\n"
   ]
  },
  {
   "cell_type": "code",
   "execution_count": 29,
   "metadata": {},
   "outputs": [
    {
     "data": {
      "text/html": [
       "<div>\n",
       "<style scoped>\n",
       "    .dataframe tbody tr th:only-of-type {\n",
       "        vertical-align: middle;\n",
       "    }\n",
       "\n",
       "    .dataframe tbody tr th {\n",
       "        vertical-align: top;\n",
       "    }\n",
       "\n",
       "    .dataframe thead th {\n",
       "        text-align: right;\n",
       "    }\n",
       "</style>\n",
       "<table border=\"1\" class=\"dataframe\">\n",
       "  <thead>\n",
       "    <tr style=\"text-align: right;\">\n",
       "      <th></th>\n",
       "      <th>ID</th>\n",
       "      <th>Newsgroup</th>\n",
       "      <th>Date</th>\n",
       "      <th>Text</th>\n",
       "    </tr>\n",
       "  </thead>\n",
       "  <tbody>\n",
       "    <tr>\n",
       "      <th>0</th>\n",
       "      <td>38772</td>\n",
       "      <td>comp.graphics</td>\n",
       "      <td>Mon, 26 Apr 1993 14:42:27 GMT</td>\n",
       "      <td>when you first look at it but if you focus beh...</td>\n",
       "    </tr>\n",
       "    <tr>\n",
       "      <th>1</th>\n",
       "      <td>104686</td>\n",
       "      <td>rec.sport.baseball</td>\n",
       "      <td>Tue, 20 Apr 1993 16:59:59 GMT</td>\n",
       "      <td>&gt;In article &lt;mssC5qrrz.91H@netcom.com&gt;, mss@ne...</td>\n",
       "    </tr>\n",
       "    <tr>\n",
       "      <th>2</th>\n",
       "      <td>21732</td>\n",
       "      <td>soc.religion.christian</td>\n",
       "      <td>20 May 93 09:01:55 GMT</td>\n",
       "      <td>&gt;It troubles me that there have been so many p...</td>\n",
       "    </tr>\n",
       "    <tr>\n",
       "      <th>3</th>\n",
       "      <td>61141</td>\n",
       "      <td>sci.space</td>\n",
       "      <td>23 Apr 1993 17:32 UT</td>\n",
       "      <td>April 23, 1993 Cosmologist Stephen Hawking tou...</td>\n",
       "    </tr>\n",
       "    <tr>\n",
       "      <th>4</th>\n",
       "      <td>55115</td>\n",
       "      <td>talk.politics.guns</td>\n",
       "      <td>22 Apr 1993 19:45:07 GMT</td>\n",
       "      <td>&gt;|&gt;&gt;This is about the third person who's parro...</td>\n",
       "    </tr>\n",
       "    <tr>\n",
       "      <th>...</th>\n",
       "      <td>...</td>\n",
       "      <td>...</td>\n",
       "      <td>...</td>\n",
       "      <td>...</td>\n",
       "    </tr>\n",
       "    <tr>\n",
       "      <th>1995</th>\n",
       "      <td>54464</td>\n",
       "      <td>talk.politics.guns</td>\n",
       "      <td>Wed, 21 Apr 1993 17:56:46 GMT</td>\n",
       "      <td>&gt;&lt;34AEJ7D@CMUVM.BITNET&gt; writes: &gt;&gt;Ah yes, I se...</td>\n",
       "    </tr>\n",
       "    <tr>\n",
       "      <th>1996</th>\n",
       "      <td>59251</td>\n",
       "      <td>sci.med</td>\n",
       "      <td>24 Apr 1993 12:20:34 -0500</td>\n",
       "      <td>&gt;In article &lt;1r8pcn$rm1@terminator.rs.itd.umic...</td>\n",
       "    </tr>\n",
       "    <tr>\n",
       "      <th>1997</th>\n",
       "      <td>60425</td>\n",
       "      <td>comp.sys.ibm.pc.hardware</td>\n",
       "      <td>18 Apr 1993 17:45:29 GMT</td>\n",
       "      <td>I am writting a program that checks a comput...</td>\n",
       "    </tr>\n",
       "    <tr>\n",
       "      <th>1998</th>\n",
       "      <td>105047</td>\n",
       "      <td>rec.motorcycles</td>\n",
       "      <td>Wed, 21 Apr 1993 23:40:35 GMT</td>\n",
       "      <td>the proper supplies and/or motivation. 3 minut...</td>\n",
       "    </tr>\n",
       "    <tr>\n",
       "      <th>1999</th>\n",
       "      <td>50426</td>\n",
       "      <td>comp.sys.mac.hardware</td>\n",
       "      <td>Mon, 5 Apr 1993 20:39:03 GMT</td>\n",
       "      <td>color photographs and for optical character re...</td>\n",
       "    </tr>\n",
       "  </tbody>\n",
       "</table>\n",
       "<p>2000 rows × 4 columns</p>\n",
       "</div>"
      ],
      "text/plain": [
       "          ID                 Newsgroup                           Date  \\\n",
       "0      38772             comp.graphics  Mon, 26 Apr 1993 14:42:27 GMT   \n",
       "1     104686        rec.sport.baseball  Tue, 20 Apr 1993 16:59:59 GMT   \n",
       "2      21732    soc.religion.christian         20 May 93 09:01:55 GMT   \n",
       "3      61141                 sci.space           23 Apr 1993 17:32 UT   \n",
       "4      55115        talk.politics.guns       22 Apr 1993 19:45:07 GMT   \n",
       "...      ...                       ...                            ...   \n",
       "1995   54464        talk.politics.guns  Wed, 21 Apr 1993 17:56:46 GMT   \n",
       "1996   59251                   sci.med     24 Apr 1993 12:20:34 -0500   \n",
       "1997   60425  comp.sys.ibm.pc.hardware       18 Apr 1993 17:45:29 GMT   \n",
       "1998  105047           rec.motorcycles  Wed, 21 Apr 1993 23:40:35 GMT   \n",
       "1999   50426     comp.sys.mac.hardware   Mon, 5 Apr 1993 20:39:03 GMT   \n",
       "\n",
       "                                                   Text  \n",
       "0     when you first look at it but if you focus beh...  \n",
       "1     >In article <mssC5qrrz.91H@netcom.com>, mss@ne...  \n",
       "2     >It troubles me that there have been so many p...  \n",
       "3     April 23, 1993 Cosmologist Stephen Hawking tou...  \n",
       "4     >|>>This is about the third person who's parro...  \n",
       "...                                                 ...  \n",
       "1995  ><34AEJ7D@CMUVM.BITNET> writes: >>Ah yes, I se...  \n",
       "1996  >In article <1r8pcn$rm1@terminator.rs.itd.umic...  \n",
       "1997    I am writting a program that checks a comput...  \n",
       "1998  the proper supplies and/or motivation. 3 minut...  \n",
       "1999  color photographs and for optical character re...  \n",
       "\n",
       "[2000 rows x 4 columns]"
      ]
     },
     "execution_count": 29,
     "metadata": {},
     "output_type": "execute_result"
    }
   ],
   "source": [
    "\n",
    "df = pd.read_csv('newsgroups_sample.csv', delimiter=\";\",index_col=False)\n",
    "df"
   ]
  },
  {
   "cell_type": "code",
   "execution_count": 30,
   "metadata": {},
   "outputs": [
    {
     "data": {
      "text/plain": [
       "dtype('O')"
      ]
     },
     "execution_count": 30,
     "metadata": {},
     "output_type": "execute_result"
    }
   ],
   "source": [
    "df['Date'].dtype"
   ]
  },
  {
   "cell_type": "code",
   "execution_count": 31,
   "metadata": {},
   "outputs": [
    {
     "name": "stderr",
     "output_type": "stream",
     "text": [
      "C:\\Users\\surendra.sah\\Anaconda3\\envs\\myenv\\lib\\site-packages\\dateutil\\parser\\_parser.py:1213: UnknownTimezoneWarning: tzname UT identified but not understood.  Pass `tzinfos` argument in order to correctly return a timezone-aware datetime.  In a future version, this will raise an exception.\n",
      "  warnings.warn(\"tzname {tzname} identified but not understood.  \"\n",
      "C:\\Users\\surendra.sah\\Anaconda3\\envs\\myenv\\lib\\site-packages\\dateutil\\parser\\_parser.py:1213: UnknownTimezoneWarning: tzname EST identified but not understood.  Pass `tzinfos` argument in order to correctly return a timezone-aware datetime.  In a future version, this will raise an exception.\n",
      "  warnings.warn(\"tzname {tzname} identified but not understood.  \"\n",
      "C:\\Users\\surendra.sah\\Anaconda3\\envs\\myenv\\lib\\site-packages\\dateutil\\parser\\_parser.py:1213: UnknownTimezoneWarning: tzname EDT identified but not understood.  Pass `tzinfos` argument in order to correctly return a timezone-aware datetime.  In a future version, this will raise an exception.\n",
      "  warnings.warn(\"tzname {tzname} identified but not understood.  \"\n",
      "C:\\Users\\surendra.sah\\Anaconda3\\envs\\myenv\\lib\\site-packages\\dateutil\\parser\\_parser.py:1213: UnknownTimezoneWarning: tzname PDT identified but not understood.  Pass `tzinfos` argument in order to correctly return a timezone-aware datetime.  In a future version, this will raise an exception.\n",
      "  warnings.warn(\"tzname {tzname} identified but not understood.  \"\n",
      "C:\\Users\\surendra.sah\\Anaconda3\\envs\\myenv\\lib\\site-packages\\dateutil\\parser\\_parser.py:1213: UnknownTimezoneWarning: tzname CDT identified but not understood.  Pass `tzinfos` argument in order to correctly return a timezone-aware datetime.  In a future version, this will raise an exception.\n",
      "  warnings.warn(\"tzname {tzname} identified but not understood.  \"\n",
      "C:\\Users\\surendra.sah\\Anaconda3\\envs\\myenv\\lib\\site-packages\\dateutil\\parser\\_parser.py:1213: UnknownTimezoneWarning: tzname MDT identified but not understood.  Pass `tzinfos` argument in order to correctly return a timezone-aware datetime.  In a future version, this will raise an exception.\n",
      "  warnings.warn(\"tzname {tzname} identified but not understood.  \"\n",
      "C:\\Users\\surendra.sah\\Anaconda3\\envs\\myenv\\lib\\site-packages\\dateutil\\parser\\_parser.py:1213: UnknownTimezoneWarning: tzname MET identified but not understood.  Pass `tzinfos` argument in order to correctly return a timezone-aware datetime.  In a future version, this will raise an exception.\n",
      "  warnings.warn(\"tzname {tzname} identified but not understood.  \"\n",
      "C:\\Users\\surendra.sah\\Anaconda3\\envs\\myenv\\lib\\site-packages\\dateutil\\parser\\_parser.py:1213: UnknownTimezoneWarning: tzname PST identified but not understood.  Pass `tzinfos` argument in order to correctly return a timezone-aware datetime.  In a future version, this will raise an exception.\n",
      "  warnings.warn(\"tzname {tzname} identified but not understood.  \"\n",
      "C:\\Users\\surendra.sah\\Anaconda3\\envs\\myenv\\lib\\site-packages\\dateutil\\parser\\_parser.py:1213: UnknownTimezoneWarning: tzname CST identified but not understood.  Pass `tzinfos` argument in order to correctly return a timezone-aware datetime.  In a future version, this will raise an exception.\n",
      "  warnings.warn(\"tzname {tzname} identified but not understood.  \"\n",
      "C:\\Users\\surendra.sah\\Anaconda3\\envs\\myenv\\lib\\site-packages\\dateutil\\parser\\_parser.py:1213: UnknownTimezoneWarning: tzname MST identified but not understood.  Pass `tzinfos` argument in order to correctly return a timezone-aware datetime.  In a future version, this will raise an exception.\n",
      "  warnings.warn(\"tzname {tzname} identified but not understood.  \"\n",
      "C:\\Users\\surendra.sah\\Anaconda3\\envs\\myenv\\lib\\site-packages\\dateutil\\parser\\_parser.py:1213: UnknownTimezoneWarning: tzname IDT identified but not understood.  Pass `tzinfos` argument in order to correctly return a timezone-aware datetime.  In a future version, this will raise an exception.\n",
      "  warnings.warn(\"tzname {tzname} identified but not understood.  \"\n",
      "C:\\Users\\surendra.sah\\Anaconda3\\envs\\myenv\\lib\\site-packages\\dateutil\\parser\\_parser.py:1213: UnknownTimezoneWarning: tzname BST identified but not understood.  Pass `tzinfos` argument in order to correctly return a timezone-aware datetime.  In a future version, this will raise an exception.\n",
      "  warnings.warn(\"tzname {tzname} identified but not understood.  \"\n",
      "C:\\Users\\surendra.sah\\Anaconda3\\envs\\myenv\\lib\\site-packages\\dateutil\\parser\\_parser.py:1213: UnknownTimezoneWarning: tzname CET identified but not understood.  Pass `tzinfos` argument in order to correctly return a timezone-aware datetime.  In a future version, this will raise an exception.\n",
      "  warnings.warn(\"tzname {tzname} identified but not understood.  \"\n"
     ]
    },
    {
     "name": "stdout",
     "output_type": "stream",
     "text": [
      "0      1993-04-26 14:42:27+00:00\n",
      "1      1993-04-20 16:59:59+00:00\n",
      "2      1993-05-20 09:01:55+00:00\n",
      "3      1993-04-23 17:32:00+00:00\n",
      "4      1993-04-22 19:45:07+00:00\n",
      "                  ...           \n",
      "1995   1993-04-21 17:56:46+00:00\n",
      "1996   1993-04-24 17:20:34+00:00\n",
      "1997   1993-04-18 17:45:29+00:00\n",
      "1998   1993-04-21 23:40:35+00:00\n",
      "1999   1993-04-05 20:39:03+00:00\n",
      "Name: Date, Length: 2000, dtype: datetime64[ns, UTC]\n"
     ]
    },
    {
     "data": {
      "text/plain": [
       "0       1993-04-26\n",
       "1       1993-04-20\n",
       "2       1993-05-20\n",
       "3       1993-04-23\n",
       "4       1993-04-22\n",
       "           ...    \n",
       "1995    1993-04-21\n",
       "1996    1993-04-24\n",
       "1997    1993-04-18\n",
       "1998    1993-04-21\n",
       "1999    1993-04-05\n",
       "Name: Day, Length: 2000, dtype: object"
      ]
     },
     "execution_count": 31,
     "metadata": {},
     "output_type": "execute_result"
    }
   ],
   "source": [
    "df['Date'] = pd.to_datetime(df['Date'], utc=True) #convert the string\n",
    "print(df['Date']) #1993-04-26 14:42:27+00:00\n",
    "df['Day'] = df['Date'].dt.date #extract day from the 'Date' column using dt accessor\n",
    "df['Day']"
   ]
  },
  {
   "cell_type": "code",
   "execution_count": 35,
   "metadata": {},
   "outputs": [
    {
     "data": {
      "text/plain": [
       "1993-04-21    208\n",
       "1993-04-16    197\n",
       "1993-04-20    189\n",
       "1993-04-23    152\n",
       "1993-04-22    151\n",
       "1993-04-15    142\n",
       "1993-04-06    107\n",
       "1993-04-19     99\n",
       "1993-04-26     78\n",
       "1993-04-17     75\n",
       "1993-04-24     64\n",
       "1993-04-27     63\n",
       "1993-04-18     61\n",
       "1993-04-05     58\n",
       "1993-04-25     45\n",
       "1993-04-29     25\n",
       "1993-04-28     24\n",
       "1993-04-30     24\n",
       "1993-05-17     19\n",
       "1993-05-11     18\n",
       "1993-05-12     17\n",
       "1993-05-16     15\n",
       "1993-04-14     14\n",
       "1993-05-02     13\n",
       "1993-05-01     11\n",
       "1993-05-13     11\n",
       "1993-05-18     10\n",
       "1993-05-15      9\n",
       "1993-05-14      8\n",
       "1993-05-09      7\n",
       "1993-05-10      7\n",
       "1993-04-11      7\n",
       "1993-04-13      6\n",
       "1993-04-04      6\n",
       "1993-05-06      6\n",
       "1993-04-10      5\n",
       "1993-05-19      5\n",
       "1993-04-12      5\n",
       "1993-04-03      4\n",
       "1993-05-20      3\n",
       "1993-04-02      2\n",
       "1993-05-03      2\n",
       "1993-03-31      1\n",
       "1993-04-07      1\n",
       "1993-05-23      1\n",
       "1993-04-09      1\n",
       "1993-05-28      1\n",
       "Name: Day, dtype: int64"
      ]
     },
     "execution_count": 35,
     "metadata": {},
     "output_type": "execute_result"
    }
   ],
   "source": [
    "dd = df['Day'].value_counts()\n",
    "dd"
   ]
  },
  {
   "cell_type": "code",
   "execution_count": 20,
   "metadata": {},
   "outputs": [
    {
     "data": {
      "text/plain": [
       "Day\n",
       "1993-03-31      1\n",
       "1993-04-02      2\n",
       "1993-04-03      4\n",
       "1993-04-04      6\n",
       "1993-04-05     58\n",
       "1993-04-06    107\n",
       "1993-04-07      1\n",
       "1993-04-09      1\n",
       "1993-04-10      5\n",
       "1993-04-11      7\n",
       "1993-04-12      5\n",
       "1993-04-13      6\n",
       "1993-04-14     14\n",
       "1993-04-15    141\n",
       "1993-04-16    196\n",
       "1993-04-17     74\n",
       "1993-04-18     61\n",
       "1993-04-19     99\n",
       "1993-04-20    189\n",
       "1993-04-21    208\n",
       "1993-04-22    150\n",
       "1993-04-23    151\n",
       "1993-04-24     64\n",
       "1993-04-25     44\n",
       "1993-04-26     78\n",
       "1993-04-27     63\n",
       "1993-04-28     23\n",
       "1993-04-29     25\n",
       "1993-04-30     24\n",
       "1993-05-01     11\n",
       "1993-05-02     13\n",
       "1993-05-03      2\n",
       "1993-05-06      6\n",
       "1993-05-09      7\n",
       "1993-05-10      7\n",
       "1993-05-11     18\n",
       "1993-05-12     17\n",
       "1993-05-13     11\n",
       "1993-05-14      8\n",
       "1993-05-15      9\n",
       "1993-05-16     15\n",
       "1993-05-17     18\n",
       "1993-05-18      9\n",
       "1993-05-19      5\n",
       "1993-05-20      3\n",
       "1993-05-23      1\n",
       "1993-05-28      1\n",
       "Name: Text, dtype: int64"
      ]
     },
     "execution_count": 20,
     "metadata": {},
     "output_type": "execute_result"
    }
   ],
   "source": [
    "texts_per_day = df.groupby('Day')['Text'].count()\n",
    "texts_per_day"
   ]
  },
  {
   "cell_type": "markdown",
   "metadata": {},
   "source": [
    "## Task 4\n",
    "\n",
    "Create a tiny web service to read the 'osm' data: \n",
    "\n",
    "1. Load the `osm.csv` into SQLite using Python.\n",
    "2. Write a SQL query providing the answers for question 2.1 and 2.2.\n",
    "3. Create an API server that is able to return a row from the dataset via a get request (GET /row/{id}). Ideally, you will let the server use your SQLite DB from Task 4.1 to query the data.\n",
    "4. Add the bare minimum test(s) that would be enough to say that the service works.\n",
    "5. Create a Dockerfile that can build a Docker image with this web API. Include the data file in the container so that it could run."
   ]
  },
  {
   "cell_type": "code",
   "execution_count": null,
   "metadata": {},
   "outputs": [],
   "source": []
  }
 ],
 "metadata": {
  "kernelspec": {
   "display_name": "Python 3",
   "language": "python",
   "name": "python3"
  },
  "language_info": {
   "codemirror_mode": {
    "name": "ipython",
    "version": 3
   },
   "file_extension": ".py",
   "mimetype": "text/x-python",
   "name": "python",
   "nbconvert_exporter": "python",
   "pygments_lexer": "ipython3",
   "version": "3.8.8"
  },
  "vscode": {
   "interpreter": {
    "hash": "9469ca5e95f392eefa373e2c9b4ecfca9306a67a7b41f0959187697f4ccca489"
   }
  }
 },
 "nbformat": 4,
 "nbformat_minor": 2
}
